{
 "cells": [
  {
   "cell_type": "markdown",
   "metadata": {},
   "source": [
    "# Using the nanoHUB web API"
   ]
  },
  {
   "cell_type": "markdown",
   "metadata": {},
   "source": [
    "## Prerequisites\n",
    "In order to run a nanoHUB tool via the web API, you need a nanoHUB account and a registered web app.\n",
    "\n",
    "Create a nanoHUB account: https://nanohub.org/register/\n",
    "\n",
    "Register a web app: https://nanohub.org/developer/api/applications/new"
   ]
  },
  {
   "cell_type": "code",
   "execution_count": 1,
   "metadata": {
    "collapsed": false
   },
   "outputs": [],
   "source": [
    "from nanoHUB_remote import \\\n",
    "    authenticate, get_driver, launch_tool, get_results, extract_results"
   ]
  },
  {
   "cell_type": "code",
   "execution_count": 2,
   "metadata": {
    "collapsed": false
   },
   "outputs": [],
   "source": [
    "# In mysecrets.py, set your web app and account secrets.\n",
    "# \n",
    "# Example, with user credentials:\n",
    "# auth_data = {\n",
    "#    'client_id': '',       # Get this when you register a web app\n",
    "#    'client_secret': '',   # Get this when you register a web app\n",
    "#    'grant_type': 'password',\n",
    "#    'username': '',        # Get this when you create a nanoHUB account\n",
    "#    'password': ''         # Get this when you create a nanoHUB account\n",
    "# }\n",
    "#\n",
    "# This design is strictly for convenience so that this notebook can be \n",
    "# shared without storing any secrets.\n",
    "from mysecrets import auth_data\n",
    "\n",
    "# Authenticate; use headers in all subsequent steps\n",
    "headers = authenticate(auth_data)"
   ]
  },
  {
   "cell_type": "code",
   "execution_count": 3,
   "metadata": {
    "collapsed": true
   },
   "outputs": [],
   "source": [
    "# The short name of the nanoHUB tool to run; this is the final stanza of\n",
    "# the tool URL (e.g. https://nanohub.org/tools/complam)\n",
    "tool_name = 'complam'\n",
    "\n",
    "# Input values; keys are the labels of the inputs in the GUI\n",
    "tool_inputs = {\n",
    "    'E1': '132GPa',        # Longitudinal Young's Modulus\n",
    "    'E2': '12.9GPa',       # Transverse Young's Modulus (in-plane)\n",
    "    'h0': '0.23mm'         # Lamina thickness\n",
    "}"
   ]
  },
  {
   "cell_type": "code",
   "execution_count": 4,
   "metadata": {
    "collapsed": false
   },
   "outputs": [],
   "source": [
    "# Generate the XML driver to run the tool with our inputs\n",
    "driver_json = get_driver(tool_name, tool_inputs, headers)"
   ]
  },
  {
   "cell_type": "code",
   "execution_count": 5,
   "metadata": {
    "collapsed": true
   },
   "outputs": [],
   "source": [
    "# Start the simulation\n",
    "session_id = launch_tool(driver_json, headers)"
   ]
  },
  {
   "cell_type": "code",
   "execution_count": 6,
   "metadata": {
    "collapsed": false
   },
   "outputs": [
    {
     "name": "stdout",
     "output_type": "stream",
     "text": [
      "1193418\n"
     ]
    }
   ],
   "source": [
    "# This is useful for debugging\n",
    "print session_id"
   ]
  },
  {
   "cell_type": "code",
   "execution_count": 7,
   "metadata": {
    "collapsed": false,
    "scrolled": true
   },
   "outputs": [],
   "source": [
    "# Get the results when available\n",
    "run_results = get_results(session_id, headers)"
   ]
  },
  {
   "cell_type": "code",
   "execution_count": 8,
   "metadata": {
    "collapsed": false
   },
   "outputs": [],
   "source": [
    "# The outputs we want; these are the labels in the result selector in the\n",
    "# tool GUI \n",
    "outputs = ['Shear Modulus', 'Longitudinal Modulus']\n",
    "\n",
    "# Get the desired outputs\n",
    "results = extract_results(run_results, outputs)"
   ]
  },
  {
   "cell_type": "code",
   "execution_count": 9,
   "metadata": {
    "collapsed": false
   },
   "outputs": [
    {
     "name": "stdout",
     "output_type": "stream",
     "text": [
      "{'Shear Modulus': 35021400000.0, 'Longitudinal Modulus': 23.44}\n"
     ]
    }
   ],
   "source": [
    "print results"
   ]
  }
 ],
 "metadata": {
  "kernelspec": {
   "display_name": "Python 2",
   "language": "python",
   "name": "python2"
  },
  "language_info": {
   "codemirror_mode": {
    "name": "ipython",
    "version": 2
   },
   "file_extension": ".py",
   "mimetype": "text/x-python",
   "name": "python",
   "nbconvert_exporter": "python",
   "pygments_lexer": "ipython2",
   "version": "2.7.12"
  }
 },
 "nbformat": 4,
 "nbformat_minor": 2
}
